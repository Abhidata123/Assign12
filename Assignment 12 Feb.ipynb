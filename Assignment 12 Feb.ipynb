{
 "cells": [
  {
   "cell_type": "code",
   "execution_count": 1,
   "id": "992d414a-c2de-49d4-91e7-27fe33838517",
   "metadata": {},
   "outputs": [],
   "source": [
    "# Q1. What is Exception in python? Write the difference between Exceptions nd $ syntax errors."
   ]
  },
  {
   "cell_type": "code",
   "execution_count": 2,
   "id": "a5d1b54d-8d04-4dfe-8607-1e75bec6bc75",
   "metadata": {},
   "outputs": [
    {
     "ename": "SyntaxError",
     "evalue": "expected ':' (2764261137.py, line 7)",
     "output_type": "error",
     "traceback": [
      "\u001b[0;36m  Cell \u001b[0;32mIn[2], line 7\u001b[0;36m\u001b[0m\n\u001b[0;31m    if a>200\u001b[0m\n\u001b[0m            ^\u001b[0m\n\u001b[0;31mSyntaxError\u001b[0m\u001b[0;31m:\u001b[0m expected ':'\n"
     ]
    }
   ],
   "source": [
    "# Errors are the problems in a program due to which the program will stop the execution. On the other hand, exceptions are raised when some internal events occur which changes the normal flow of the program. \n",
    "\n",
    "# Syntax errors:\n",
    "# When the proper syntax of the language is not followed then a syntax error is thrown.\n",
    "\n",
    "a = 100\n",
    "if a>200\n",
    "print(\"the number is greater than 100\")"
   ]
  },
  {
   "cell_type": "code",
   "execution_count": null,
   "id": "6eead3b1-bd66-4eca-ad9d-3b787f721951",
   "metadata": {},
   "outputs": [],
   "source": [
    "# logical errors(Exception)\n",
    "# When in the runtime an error that occurs after passing the syntax test is called exception or logical type. For example, when we divide any number by zero then the ZeroDivisionError exception is raised, or when we import a module that does not exist then ImportError is raised."
   ]
  },
  {
   "cell_type": "code",
   "execution_count": 3,
   "id": "fc79121c-f19e-47a3-b526-c8d3d6491770",
   "metadata": {},
   "outputs": [
    {
     "ename": "ZeroDivisionError",
     "evalue": "division by zero",
     "output_type": "error",
     "traceback": [
      "\u001b[0;31m---------------------------------------------------------------------------\u001b[0m",
      "\u001b[0;31mZeroDivisionError\u001b[0m                         Traceback (most recent call last)",
      "Cell \u001b[0;32mIn[3], line 2\u001b[0m\n\u001b[1;32m      1\u001b[0m a \u001b[38;5;241m=\u001b[39m \u001b[38;5;241m1000\u001b[39m\n\u001b[0;32m----> 2\u001b[0m b \u001b[38;5;241m=\u001b[39m \u001b[43ma\u001b[49m\u001b[38;5;241;43m/\u001b[39;49m\u001b[38;5;241;43m0\u001b[39;49m\n\u001b[1;32m      3\u001b[0m \u001b[38;5;28mprint\u001b[39m(b)\n",
      "\u001b[0;31mZeroDivisionError\u001b[0m: division by zero"
     ]
    }
   ],
   "source": [
    "a = 1000\n",
    "b = a/0\n",
    "print(b)"
   ]
  },
  {
   "cell_type": "code",
   "execution_count": 4,
   "id": "7abd56dc-312a-4928-9075-2e6219069955",
   "metadata": {},
   "outputs": [],
   "source": [
    "# 2. What happens when an exception is not handled? Explain it with an example?"
   ]
  },
  {
   "cell_type": "code",
   "execution_count": 6,
   "id": "96028dbf-6d59-43ce-b107-7206cc0384a2",
   "metadata": {},
   "outputs": [
    {
     "ename": "TypeError",
     "evalue": "unsupported operand type(s) for +: 'int' and 'str'",
     "output_type": "error",
     "traceback": [
      "\u001b[0;31m---------------------------------------------------------------------------\u001b[0m",
      "\u001b[0;31mTypeError\u001b[0m                                 Traceback (most recent call last)",
      "Cell \u001b[0;32mIn[6], line 5\u001b[0m\n\u001b[1;32m      3\u001b[0m x \u001b[38;5;241m=\u001b[39m \u001b[38;5;241m5\u001b[39m\n\u001b[1;32m      4\u001b[0m y \u001b[38;5;241m=\u001b[39m \u001b[38;5;124m\"\u001b[39m\u001b[38;5;124mhello\u001b[39m\u001b[38;5;124m\"\u001b[39m\n\u001b[0;32m----> 5\u001b[0m z \u001b[38;5;241m=\u001b[39m \u001b[43mx\u001b[49m\u001b[43m \u001b[49m\u001b[38;5;241;43m+\u001b[39;49m\u001b[43m \u001b[49m\u001b[43my\u001b[49m  \n\u001b[1;32m      6\u001b[0m \u001b[38;5;28mprint\u001b[39m(z)\u001b[38;5;66;03m# type error is an exception problem. \u001b[39;00m\n",
      "\u001b[0;31mTypeError\u001b[0m: unsupported operand type(s) for +: 'int' and 'str'"
     ]
    }
   ],
   "source": [
    "# Ans. When an exception occurred, if you don't handle it, the program terminates abruptly and the code past the line that caused the exception will not get executed\n",
    "\n",
    "x = 5\n",
    "y = \"hello\"\n",
    "z = x + y  \n",
    "print(z)# type error is an exception problem.  where the exception raised then after which the code is not responded."
   ]
  },
  {
   "cell_type": "code",
   "execution_count": 7,
   "id": "b04b2058-5686-4942-989d-21bd3f773c39",
   "metadata": {},
   "outputs": [],
   "source": [
    "# 3. Which Python statements are used to catch and handle exceptions? Explain with an example."
   ]
  },
  {
   "cell_type": "code",
   "execution_count": 8,
   "id": "c7b304d5-350d-41d0-912f-3a594158b558",
   "metadata": {},
   "outputs": [
    {
     "name": "stdout",
     "output_type": "stream",
     "text": [
      "unsupported operand type(s) for +: 'int' and 'str'\n"
     ]
    }
   ],
   "source": [
    "# Ans. The try and except block in Python is used to catch and handle exceptions. Python executes code following the try statement as a “normal” part of the program. The code that follows the except statement is the program's response to any exceptions in the preceding try clause.\n",
    "\n",
    "try:\n",
    "    a = 5\n",
    "    b = \"Abhi\"\n",
    "    a + b\n",
    "except TypeError as e:\n",
    "    print(e)"
   ]
  },
  {
   "cell_type": "code",
   "execution_count": 9,
   "id": "2f77900c-4e85-4c4f-9199-20b14b5963d5",
   "metadata": {},
   "outputs": [],
   "source": [
    "# 4. Q4. Explain with an example:\n",
    "#try and else\n",
    "#finally\n",
    "#raise\n"
   ]
  },
  {
   "cell_type": "code",
   "execution_count": 26,
   "id": "f9301d7b-3eaa-4f6f-b9b3-cbf9ea6cd73e",
   "metadata": {},
   "outputs": [
    {
     "name": "stdin",
     "output_type": "stream",
     "text": [
      "Enter the desired digit: 10\n"
     ]
    },
    {
     "name": "stdout",
     "output_type": "stream",
     "text": [
      "The number is smaller\n"
     ]
    }
   ],
   "source": [
    "# try and else\n",
    "\n",
    "try:\n",
    "    a = int(input(\"Enter the desired digit:\"))\n",
    "    if a > 10:\n",
    "        print(\"The number is greater\")\n",
    "except Exception as e:\n",
    "    print(e)\n",
    "else:\n",
    "        print(\"The number is smaller\")"
   ]
  },
  {
   "cell_type": "code",
   "execution_count": 27,
   "id": "bde98b1b-1d0f-44dd-9857-b3a4b0632d9e",
   "metadata": {},
   "outputs": [
    {
     "name": "stdout",
     "output_type": "stream",
     "text": [
      "The finally block will executed itself successfully.\n"
     ]
    }
   ],
   "source": [
    "# try and finally\n",
    "\n",
    "try:     \n",
    "    f = open(\"test6.txt\", \"w\")\n",
    "    f.write(\"This is my chair car\")\n",
    "finally:\n",
    "    print(\"The finally block will executed itself successfully.\")"
   ]
  },
  {
   "cell_type": "code",
   "execution_count": null,
   "id": "8579336c-b437-4dce-9ebd-a7c5b3138978",
   "metadata": {},
   "outputs": [],
   "source": [
    "# try and raise "
   ]
  },
  {
   "cell_type": "code",
   "execution_count": 42,
   "id": "60f6f485-71db-4c4e-b4fb-6a2729239751",
   "metadata": {},
   "outputs": [
    {
     "ename": "Exception",
     "evalue": "Sorry, no numbers below zero",
     "output_type": "error",
     "traceback": [
      "\u001b[0;31m---------------------------------------------------------------------------\u001b[0m",
      "\u001b[0;31mException\u001b[0m                                 Traceback (most recent call last)",
      "Cell \u001b[0;32mIn[42], line 3\u001b[0m\n\u001b[1;32m      1\u001b[0m x \u001b[38;5;241m=\u001b[39m \u001b[38;5;241m-\u001b[39m\u001b[38;5;241m1\u001b[39m\n\u001b[1;32m      2\u001b[0m \u001b[38;5;28;01mif\u001b[39;00m x \u001b[38;5;241m<\u001b[39m \u001b[38;5;241m0\u001b[39m:\n\u001b[0;32m----> 3\u001b[0m     \u001b[38;5;28;01mraise\u001b[39;00m \u001b[38;5;167;01mException\u001b[39;00m(\u001b[38;5;124m\"\u001b[39m\u001b[38;5;124mSorry, no numbers below zero\u001b[39m\u001b[38;5;124m\"\u001b[39m)\n",
      "\u001b[0;31mException\u001b[0m: Sorry, no numbers below zero"
     ]
    }
   ],
   "source": [
    "x = -1\n",
    "if x < 0:\n",
    "    raise Exception(\"Sorry, no numbers below zero\")"
   ]
  },
  {
   "cell_type": "code",
   "execution_count": null,
   "id": "f8110388-426b-42e7-99fd-6eb94deb5fc2",
   "metadata": {},
   "outputs": [],
   "source": [
    "# 5. What are Custom Exceptions in python? What do we need Custom Exceptions? Explain with an example"
   ]
  },
  {
   "cell_type": "code",
   "execution_count": null,
   "id": "acb6ce5d-3279-483d-b87d-d1ff94eede6b",
   "metadata": {},
   "outputs": [],
   "source": [
    "# custom exceptions will add information about project-related problems. That way, you can design your code (and traceback, if an exception is raised) in a way that combines Python code with the language of the project"
   ]
  },
  {
   "cell_type": "code",
   "execution_count": 43,
   "id": "58461bcd-0b99-462e-ba5d-51b4ac8f8f03",
   "metadata": {},
   "outputs": [],
   "source": [
    "# 6. Create custom exception ,class. Use this ,class to handle an exception."
   ]
  },
  {
   "cell_type": "code",
   "execution_count": 29,
   "id": "d14bbc7f-13a9-4335-bf3d-bf5a01aa9c1d",
   "metadata": {},
   "outputs": [
    {
     "name": "stdin",
     "output_type": "stream",
     "text": [
      "Enter the amount of purchasing things 10\n"
     ]
    }
   ],
   "source": [
    "\n",
    "\n",
    "\n",
    "money = int(input(\"Enter the amount of purchasing things\"))\n",
    "\n",
    "class Purchaseitem(Exception):\n",
    "    def __init__(self, msg):\n",
    "        self.msg = msg\n"
   ]
  },
  {
   "cell_type": "code",
   "execution_count": 30,
   "id": "6e554fea-d2e9-45cf-b0c5-0ac8cd168ece",
   "metadata": {},
   "outputs": [],
   "source": [
    "def item(money):\n",
    "    if money > 10000 and money < 15000:\n",
    "        raise Purchaseitem (\"This Television is yours\")\n",
    "    elif money > 15000 and money < 20000:\n",
    "        raise Purchaseitem (\"This AC is yours\")\n",
    "    else: \n",
    "        print(\"You cannot purchase anything\")\n",
    "        \n",
    "        \n",
    "        \n",
    "    "
   ]
  },
  {
   "cell_type": "code",
   "execution_count": 33,
   "id": "25bc9a62-6bdb-40c5-8150-562499d24276",
   "metadata": {},
   "outputs": [
    {
     "name": "stdin",
     "output_type": "stream",
     "text": [
      "Enter the amount of purchasing things 16000\n"
     ]
    },
    {
     "name": "stdout",
     "output_type": "stream",
     "text": [
      "This AC is yours\n"
     ]
    }
   ],
   "source": [
    "try:\n",
    "    money = int(input(\"Enter the amount of purchasing things\"))\n",
    "    item(money)\n",
    "except Purchaseitem as e:\n",
    "    print(e)"
   ]
  },
  {
   "cell_type": "code",
   "execution_count": null,
   "id": "cef0f739-ae5b-486f-99d1-e05c2c09c9ca",
   "metadata": {},
   "outputs": [],
   "source": []
  }
 ],
 "metadata": {
  "kernelspec": {
   "display_name": "Python 3 (ipykernel)",
   "language": "python",
   "name": "python3"
  },
  "language_info": {
   "codemirror_mode": {
    "name": "ipython",
    "version": 3
   },
   "file_extension": ".py",
   "mimetype": "text/x-python",
   "name": "python",
   "nbconvert_exporter": "python",
   "pygments_lexer": "ipython3",
   "version": "3.10.8"
  }
 },
 "nbformat": 4,
 "nbformat_minor": 5
}
